{
 "cells": [
  {
   "cell_type": "markdown",
   "id": "8245d429-04b0-46a7-a168-6fab31bca7bb",
   "metadata": {
    "tags": []
   },
   "source": [
    "## Data Science Tools and Ecosystem"
   ]
  },
  {
   "cell_type": "markdown",
   "id": "52d38202-ce4d-478b-9040-aa2e056108c4",
   "metadata": {},
   "source": [
    "In this notebook, Data Science Tools and Ecosystem are summarized."
   ]
  },
  {
   "cell_type": "markdown",
   "id": "376f42ff-0c93-413f-aa1a-0c268e1e85f8",
   "metadata": {},
   "source": [
    "Some of the popular languages that Data Scientists use are:\n",
    "1.Python\n",
    "2.R\n",
    "3.SQL\n",
    "4.C++\n",
    "5.Java"
   ]
  },
  {
   "cell_type": "markdown",
   "id": "7dab6196-ca5f-4e82-895f-82dc580021a9",
   "metadata": {},
   "source": [
    "Some of the commonly used libraries used by Data Scientists include:\n",
    "1.TensorFlow\n",
    "2.Pandas\n",
    "3.NumPy\n",
    "4.PyTorch\n",
    "5.SciPy\n"
   ]
  },
  {
   "cell_type": "markdown",
   "id": "c31dc363-b83e-494e-9ea7-4c255b596e07",
   "metadata": {},
   "source": [
    "|Data Science Tools|\n",
    "|------------------|\n",
    "|Apache Hadoop|\n",
    "|SAS|\n",
    "|TensorFlow|\n",
    "|Apache Spark|\n",
    "\n"
   ]
  },
  {
   "cell_type": "markdown",
   "id": "852eadf8-de02-4715-a302-0b058df22be3",
   "metadata": {},
   "source": [
    "### Below are a few examples of evaluating arithmetic expressions in Python."
   ]
  },
  {
   "cell_type": "code",
   "execution_count": 1,
   "id": "bc8ba909-e87a-408e-b46e-6f723fb35a9c",
   "metadata": {
    "tags": []
   },
   "outputs": [
    {
     "data": {
      "text/plain": [
       "17"
      ]
     },
     "execution_count": 1,
     "metadata": {},
     "output_type": "execute_result"
    }
   ],
   "source": [
    "#This a simple arithmetic expression to multiply then add integers.\n",
    "(3*4)+5"
   ]
  },
  {
   "cell_type": "code",
   "execution_count": 2,
   "id": "dd29f27b-f85e-4063-a7a6-73f33d2a935b",
   "metadata": {
    "tags": []
   },
   "outputs": [
    {
     "data": {
      "text/plain": [
       "3.3333333333333335"
      ]
     },
     "execution_count": 2,
     "metadata": {},
     "output_type": "execute_result"
    }
   ],
   "source": [
    "#This will convert 200 minutes to hours by diving by 60.\n",
    "200/60"
   ]
  },
  {
   "cell_type": "markdown",
   "id": "f301b73e-591c-4183-a5de-5e931ba161d2",
   "metadata": {
    "tags": []
   },
   "source": [
    "__Objectives:__\n",
    "* List popular languages for Data Science\n",
    "* List of popular Libraries \n",
    "* Well Known Data Science Tools"
   ]
  },
  {
   "cell_type": "markdown",
   "id": "bb47fd32-0b9d-487f-92bb-2cff343a1770",
   "metadata": {},
   "source": [
    "## Author\n",
    "Prathmesh Rathod"
   ]
  }
 ],
 "metadata": {
  "kernelspec": {
   "display_name": "Python",
   "language": "python",
   "name": "conda-env-python-py"
  },
  "language_info": {
   "codemirror_mode": {
    "name": "ipython",
    "version": 3
   },
   "file_extension": ".py",
   "mimetype": "text/x-python",
   "name": "python",
   "nbconvert_exporter": "python",
   "pygments_lexer": "ipython3",
   "version": "3.7.12"
  }
 },
 "nbformat": 4,
 "nbformat_minor": 5
}
